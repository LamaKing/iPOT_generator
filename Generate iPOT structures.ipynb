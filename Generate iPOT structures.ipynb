{
 "cells": [
  {
   "cell_type": "code",
   "execution_count": 168,
   "id": "1e572222",
   "metadata": {},
   "outputs": [],
   "source": [
    "import numpy as np \n",
    "import matplotlib.pyplot as plt\n",
    "import random"
   ]
  },
  {
   "cell_type": "markdown",
   "id": "804a8563",
   "metadata": {},
   "source": [
    "# 2D projection"
   ]
  },
  {
   "cell_type": "code",
   "execution_count": 169,
   "id": "cb4f0290",
   "metadata": {},
   "outputs": [
    {
     "name": "stdout",
     "output_type": "stream",
     "text": [
      "\t0) lose ends? True\n",
      "\t1) lose ends? True\n",
      "\t2) lose ends? True\n",
      "\t3) lose ends? True\n",
      "\t4) lose ends? True\n",
      "\t5) lose ends? True\n",
      "\t6) lose ends? True\n",
      "\t7) lose ends? True\n",
      "\t8) lose ends? True\n",
      "\t9) lose ends? True\n",
      "1) n=11 stable? True\n"
     ]
    }
   ],
   "source": [
    "# defining the number of steps (!= number of points you will have in the end)\n",
    "n0 = 20\n",
    "n = n0\n",
    "# maximum number of attempt to find a stable structures\n",
    "max_attempt = 100\n",
    "str_attempt = 0\n",
    "stable = False\n",
    "\n",
    "while not stable and str_attempt < max_attempt:\n",
    "    n = n0 # reset number of steps\n",
    "    str_attempt += 1\n",
    "    # random walk trajectory\n",
    "    traj_xy = np.zeros((n,2))\n",
    "\n",
    "    # compute RW steps\n",
    "    for i in range(1, n):\n",
    "        test_xyz = traj_xy[i - 1]\n",
    "        attempt = 0\n",
    "        # self-avoiding random walk\n",
    "        while np.min(np.linalg.norm(traj_xy-test_xyz, axis=1)) == 0 and attempt<max_attempt:\n",
    "            attempt += 1\n",
    "            val = random.randint(1, 4)\n",
    "            test_xyz = traj_xy[i - 1].copy()\n",
    "\n",
    "            if val == 1:\n",
    "                test_xyz[0] = traj_xy[i - 1, 0] + 1\n",
    "                test_xyz[1] = traj_xy[i - 1, 1] \n",
    "            elif val == 2:\n",
    "                test_xyz[0] = traj_xy[i - 1, 0] \n",
    "                test_xyz[1] = traj_xy[i - 1, 1] + 1\n",
    "            elif val == 3:\n",
    "                test_xyz[0] = traj_xy[i - 1, 0] - 1\n",
    "                test_xyz[1] = traj_xy[i - 1, 1] \n",
    "            else:\n",
    "                test_xyz[0] = traj_xy[i - 1, 0] \n",
    "                test_xyz[1] = traj_xy[i - 1, 1] - 1\n",
    "        traj_xy[i] = test_xyz\n",
    "    # shift to 0 height\n",
    "    traj_xy[:,1] -= np.min(traj_xy[:,1])\n",
    "    # delete overlapping points\n",
    "    traj_xy = np.unique(traj_xy, axis=0)\n",
    "    n = traj_xy.shape[0]\n",
    "    \n",
    "    # prune loose ends\n",
    "    connect = []\n",
    "    connect_ids = []\n",
    "    # loop over points\n",
    "    for i in range(len(traj_xy)):\n",
    "        for j in range(len(traj_xy)):\n",
    "            if i == j: continue # no self link\n",
    "            # check if two points are closer\n",
    "            dist = np.linalg.norm(traj_xy[i]-traj_xy[j])\n",
    "            if np.isclose(dist-1,0):\n",
    "                connect.append([traj_xy[i], traj_xy[j]])\n",
    "                connect_ids.append([i, j])\n",
    "    connect = np.array(connect)\n",
    "    connect_ids = np.array(connect_ids)\n",
    "    # compute nearest neighbours\n",
    "    ids, id_counts = np.unique(connect_ids[:,0], return_counts=True)\n",
    "\n",
    "    # iteratively delete nodes with only 1 neighbour\n",
    "    ii = 0\n",
    "    while np.any(id_counts<=1):\n",
    "        print(f'\\t{ii}) lose ends?', np.any(id_counts<=1))\n",
    "        ii+=1\n",
    "        ids, id_counts = np.unique(connect_ids[:,0], return_counts=True)\n",
    "        # update trajectory\n",
    "        traj_xy = traj_xy[ids[id_counts>1]]\n",
    "        traj_xy[:,1] -= np.min(traj_xy[:,1])\n",
    "        traj_xy = np.unique(traj_xy, axis=0)\n",
    "        n = traj_xy.shape[0]\n",
    "        # recompute connectivity\n",
    "        connect = []\n",
    "        connect_ids = []\n",
    "        for i in range(len(traj_xy)):\n",
    "            for j in range(len(traj_xy)):\n",
    "                if i == j: continue\n",
    "                dist = np.linalg.norm(traj_xy[i]-traj_xy[j])\n",
    "\n",
    "                if np.isclose(dist-1,0):\n",
    "                    connect.append([traj_xy[i], traj_xy[j]])\n",
    "                    connect_ids.append([i, j])\n",
    "        connect = np.array(connect)\n",
    "        connect_ids = np.array(connect_ids)\n",
    "\n",
    "    # center of mass (only of points, while weight is probabl more in lines)\n",
    "    xcm = np.mean(traj_xy, axis=0)\n",
    "    # identify base\n",
    "    base_mask = np.where(traj_xy[:,1] == np.min(traj_xy[:,1]))\n",
    "    base_mask, traj_xy[base_mask]\n",
    "    # compute stability\n",
    "    stable = xcm[0] > np.min(traj_xy[base_mask, 0]) and xcm[0]<np.max(traj_xy[base_mask, 0])\n",
    "    \n",
    "    print(f'{str_attempt}) n={n} stable?', stable)"
   ]
  },
  {
   "cell_type": "code",
   "execution_count": 170,
   "id": "0253de36",
   "metadata": {},
   "outputs": [
    {
     "data": {
      "image/png": "[encoded data removed]",
      "text/plain": [
       "<Figure size 640x480 with 1 Axes>"
      ]
     },
     "metadata": {},
     "output_type": "display_data"
    }
   ],
   "source": [
    "# interactive (works bad)\n",
    "# %matplotlib notebook \n",
    "# static\n",
    "%matplotlib inline\n",
    "\n",
    "fig = plt.figure()\n",
    "ax = fig.add_subplot(111)\n",
    "\n",
    "for line in connect:\n",
    "    ax.plot(line[:,0], line[:,1], '-k', lw=0.5)\n",
    "    \n",
    "ax.plot(traj_xy[:,0], traj_xy[:,1], '.k')\n",
    "ax.plot(traj_xy[np.argmin(traj_xy[:,1]),0], traj_xy[np.argmin(traj_xy[:,1]),1], '>')\n",
    "ax.plot(traj_xy[-1,0], traj_xy[-1,1], '<')\n",
    "\n",
    "\n",
    "ax.plot(traj_xy[base_mask, 0], traj_xy[base_mask, 1], 'ok', lw=5)\n",
    "ax.plot([np.min(traj_xy[base_mask, 0]), np.max(traj_xy[base_mask, 0])], \n",
    "        2*[np.min(traj_xy[base_mask, 1])], '-k', lw=5, zorder=-1)\n",
    "\n",
    "ax.plot([xcm[0], xcm[0]], [0, xcm[1]], ':')\n",
    "ax.plot(xcm[0], xcm[1], 'sr')\n",
    "ax.plot(xcm[0], 0, '^r')\n",
    "\n",
    "ax.set_aspect('equal')\n",
    "plt.show()\n"
   ]
  },
  {
   "cell_type": "markdown",
   "id": "ae5c79e6",
   "metadata": {},
   "source": [
    "### make 3D"
   ]
  },
  {
   "cell_type": "code",
   "execution_count": 171,
   "id": "594fbee1",
   "metadata": {},
   "outputs": [
    {
     "name": "stdout",
     "output_type": "stream",
     "text": [
      "(82, 2, 3)\n"
     ]
    }
   ],
   "source": [
    "# make 3D by addin a layer behind\n",
    "\n",
    "N = traj_xy.shape[0]*2\n",
    "traj_xyz = np.zeros((N, 3))\n",
    "\n",
    "traj_xyz[:N//2,0] = traj_xy[:,0]\n",
    "traj_xyz[N//2:,0] = traj_xy[:,0]\n",
    "\n",
    "traj_xyz[:N//2,2] = traj_xy[:,1]\n",
    "traj_xyz[N//2:,2] = traj_xy[:,1]\n",
    "\n",
    "traj_xyz[:N//2,1] = 0\n",
    "traj_xyz[N//2:,1] = 1\n",
    "\n",
    "connect = []\n",
    "connect_ids = []\n",
    "for i in range(len(traj_xyz)):\n",
    "    for j in range(len(traj_xyz)):\n",
    "        if i == j: continue\n",
    "        dist = np.linalg.norm(traj_xyz[i]-traj_xyz[j])\n",
    "        if np.isclose(dist-1,0):\n",
    "            connect.append([traj_xyz[i], traj_xyz[j]])\n",
    "            connect_ids.append([i, j])\n",
    "connect = np.array(connect)\n",
    "connect_ids = np.array(connect_ids)\n",
    "\n",
    "xcm = np.mean(traj_xyz, axis=0)\n",
    "base_mask = np.where(traj_xyz[:,2] == np.min(traj_xyz[:,2]))[0]\n",
    "body_mask = [i for i in range(traj_xyz.shape[0]) if i not in base_mask]\n",
    "\n",
    "print(connect.shape)"
   ]
  },
  {
   "cell_type": "code",
   "execution_count": 172,
   "id": "c77176d8",
   "metadata": {
    "scrolled": false
   },
   "outputs": [
    {
     "data": {
      "image/png": "[encoded data removed]",
      "text/plain": [
       "<Figure size 640x480 with 1 Axes>"
      ]
     },
     "metadata": {},
     "output_type": "display_data"
    }
   ],
   "source": [
    "# %matplotlib notebook\n",
    "%matplotlib inline\n",
    "\n",
    "# plotting stuff:\n",
    "fig = plt.figure()\n",
    "ax = fig.add_subplot(111, projection='3d', computed_zorder=False)\n",
    "\n",
    "plt.title(f\"Random Walk {N} points and {connect.shape[0]} connections\")\n",
    "\n",
    "# add a green carpet to understand better the 3D view\n",
    "from mpl_toolkits.mplot3d.art3d import Poly3DCollection\n",
    "x = [np.min(traj_xyz[:,0])-1, np.max(traj_xyz[:,0])+1,np.max(traj_xyz[:,0])+1,np.min(traj_xyz[:,0])-1]\n",
    "y = [-3,-3,5,5]\n",
    "z = [0,0,0,0]\n",
    "verts = [list(zip(x,y,z))]\n",
    "ax.add_collection3d(Poly3DCollection(verts, zorder=-20, alpha=0.5, color='tab:green'))\n",
    "\n",
    "# plot points\n",
    "ax.plot3D(traj_xyz[body_mask,0], traj_xyz[body_mask,1], traj_xyz[body_mask,2], '.k')\n",
    "# plot lines\n",
    "for line in connect:\n",
    "    ax.plot3D(line[:,0], line[:,1], line[:,2], '-k', lw=0.5)\n",
    "    \n",
    "# show CM\n",
    "ax.plot3D([xcm[0], xcm[0]], [xcm[1], xcm[1]], [0, xcm[2]], ':r')\n",
    "ax.plot3D(xcm[0], xcm[1], xcm[2], 'sr')\n",
    "ax.plot3D(xcm[0], xcm[1], 0, '^r')\n",
    "\n",
    "# highlight base\n",
    "ax.scatter3D(traj_xyz[base_mask, 0], traj_xyz[base_mask, 1], traj_xyz[base_mask, 2], marker='s', color='gray', zorder=10)\n",
    "\n",
    "# nice view\n",
    "ax.set_aspect('equal')\n",
    "ax.axis('off')\n",
    "\n",
    "plt.show()\n"
   ]
  }
 ],
 "metadata": {
  "kernelspec": {
   "display_name": "Python 3",
   "language": "python",
   "name": "python3"
  },
  "language_info": {
   "codemirror_mode": {
    "name": "ipython",
    "version": 3
   },
   "file_extension": ".py",
   "mimetype": "text/x-python",
   "name": "python",
   "nbconvert_exporter": "python",
   "pygments_lexer": "ipython3",
   "version": "3.11.3"
  }
 },
 "nbformat": 4,
 "nbformat_minor": 5
}
